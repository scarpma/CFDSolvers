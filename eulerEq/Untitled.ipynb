{
 "cells": [
  {
   "cell_type": "code",
   "execution_count": 1,
   "id": "b0dcd0a7-3b6f-42ba-b103-90932419f612",
   "metadata": {},
   "outputs": [],
   "source": [
    "import numpy as np"
   ]
  },
  {
   "cell_type": "code",
   "execution_count": 7,
   "id": "2d3be36f-fe12-4f96-bfe0-7c8885538d62",
   "metadata": {},
   "outputs": [
    {
     "data": {
      "text/plain": [
       "type"
      ]
     },
     "execution_count": 7,
     "metadata": {},
     "output_type": "execute_result"
    }
   ],
   "source": [
    "type(np.Ndarray)"
   ]
  },
  {
   "cell_type": "code",
   "execution_count": 310,
   "id": "7986f781-be79-4e65-a2b9-a4b248fb0efb",
   "metadata": {},
   "outputs": [
    {
     "ename": "SyntaxError",
     "evalue": "invalid syntax (2471558197.py, line 61)",
     "output_type": "error",
     "traceback": [
      "\u001b[0;36m  Input \u001b[0;32mIn [310]\u001b[0;36m\u001b[0m\n\u001b[0;31m    ,\u001b[0m\n\u001b[0m    ^\u001b[0m\n\u001b[0;31mSyntaxError\u001b[0m\u001b[0;31m:\u001b[0m invalid syntax\n"
     ]
    }
   ],
   "source": [
    "class ScalarField_():\n",
    "    def __init__(self, array):\n",
    "        self.array = np.array(array)\n",
    "        return\n",
    "    \n",
    "    def __add__(self, other):\n",
    "        if isinstance(other, self.__class__):\n",
    "            return self.array + other.array\n",
    "        else:\n",
    "            return self.array + other\n",
    "    \n",
    "    def __sub__(self, other):\n",
    "        if isinstance(other, self.__class__):\n",
    "            return self.array - other.array\n",
    "        else:\n",
    "            return self.array - other\n",
    "        \n",
    "    def __mul__(self, other):\n",
    "        if isinstance(other, self.__class__):\n",
    "            return self.array * other.array\n",
    "        else:\n",
    "            return self.array * other\n",
    "    \n",
    "    def __truediv__(self, other):\n",
    "        if isinstance(other, self.__class__):\n",
    "            return self.array / other.array\n",
    "        else:\n",
    "            return self.array / other\n",
    "        \n",
    "    def __repr__(self,):\n",
    "        return self.array.__repr__()\n",
    "\n",
    "\n",
    "class ScalarField(ScalarField_):\n",
    "    def __init__(self, array, grid):\n",
    "        assert array.shape == grid.x.array.shape\n",
    "        super().__init__(array)\n",
    "        self.grid = grid\n",
    "        return\n",
    "\n",
    "    def _dx(self, ):\n",
    "        return ScalarField(\n",
    "            ( np.roll(self.array, -1, axis=0) - np.roll(self.array, +1, axis=0) ) / (2*self.grid.dx),\n",
    "            self.grid\n",
    "        )\n",
    "    \n",
    "    def _dy(self, ):\n",
    "        return ScalarField(\n",
    "            ( np.roll(self.array, -1, axis=1) - np.roll(self.array, +1, axis=1) ) / (2*self.grid.dy),\n",
    "            self.grid\n",
    "        )\n",
    "    \n",
    "    def _grad(self, ):\n",
    "        return VectorialField(self._dx(), self._dy())\n",
    "    \n",
    "    def _laplacian(self, ):\n",
    "        return self._grad()._div()\n",
    "    \n",
    "    def _faces(self, ):\n",
    "        return ScalarField(\n",
    "            ,\n",
    "            #self.grid\n",
    "        )\n",
    "\n",
    "\n",
    "class VectorialField():\n",
    "\n",
    "    def __init__(self, x, y):\n",
    "        assert x.array.shape == y.array.shape\n",
    "        self.x = x\n",
    "        self.y = y\n",
    "        return\n",
    "\n",
    "    def _div(self, ):\n",
    "        return ScalarField(\n",
    "            self.x._dx() + self.y._dy(),\n",
    "            self.x.grid\n",
    "        )\n",
    "    \n",
    "    def __repr__(self,):\n",
    "        return 'X: ' + self.x.__repr__() + \\\n",
    "            '\\nY: ' + self.y.__repr__()\n",
    "    \n",
    "    \n",
    "class Grid(VectorialField):\n",
    "    def __init__(self, *args):\n",
    "        super().__init__(*args)\n",
    "        self.dx = self.x.array[1,0] - self.x.array[0,0]\n",
    "        self.dy = self.y.array[0,1] - self.y.array[0,0]\n",
    "        return\n"
   ]
  },
  {
   "cell_type": "code",
   "execution_count": 309,
   "id": "d42d9b98-a6c7-44eb-aac6-a55d17533abc",
   "metadata": {},
   "outputs": [],
   "source": [
    "N = 50\n",
    "Xlin = np.linspace(0, 2*np.pi - 2*np.pi / N, N)\n",
    "Ylin = np.linspace(0, 2*np.pi - 2*np.pi / N, N)\n",
    "X, Y = np.meshgrid(Xlin, Ylin, indexing='ij')\n",
    "grid = Grid(ScalarField_(X), ScalarField_(Y))\n",
    "\n",
    "random = np.sin(X) * np.sin(Y)\n",
    "p = ScalarField(random, grid)\n",
    "rho = ScalarField(random, grid)\n",
    "Ux = ScalarField(random, grid) \n",
    "Uy = ScalarField(random, grid) \n",
    "U = VectorialField(Ux, Uy)"
   ]
  },
  {
   "cell_type": "code",
   "execution_count": null,
   "id": "5c2960f0-6f07-41ac-b9c3-6ba85f0d6465",
   "metadata": {},
   "outputs": [],
   "source": []
  },
  {
   "cell_type": "code",
   "execution_count": 230,
   "id": "61c7b230-24d3-4f46-94ba-4b8b867a8aa3",
   "metadata": {},
   "outputs": [],
   "source": [
    "import matplotlib.pyplot as plt"
   ]
  },
  {
   "cell_type": "code",
   "execution_count": 294,
   "id": "3a7e7efc-a1a8-4a57-9717-43a01e8cbc97",
   "metadata": {},
   "outputs": [],
   "source": [
    "N = 50\n",
    "Xlin = np.linspace(0, 2*np.pi - 2*np.pi / N, N)\n",
    "Ylin = np.linspace(0, 2*np.pi - 2*np.pi / N, N)\n",
    "X, Y = np.meshgrid(Xlin, Ylin, indexing='ij')"
   ]
  },
  {
   "cell_type": "code",
   "execution_count": 300,
   "id": "252932da-43cc-4977-a09a-f12c954c96be",
   "metadata": {},
   "outputs": [],
   "source": [
    "grid = Grid(ScalarField_(X), ScalarField_(Y))\n",
    "random = np.sin(X) * np.sin(Y)\n",
    "U = ScalarField(random, grid)"
   ]
  },
  {
   "cell_type": "code",
   "execution_count": 301,
   "id": "cc910d83-ce8c-4b16-923c-a7dca28ba12c",
   "metadata": {},
   "outputs": [
    {
     "data": {
      "text/plain": [
       "<matplotlib.colorbar.Colorbar at 0x7fabde26d160>"
      ]
     },
     "execution_count": 301,
     "metadata": {},
     "output_type": "execute_result"
    },
    {
     "data": {
      "image/png": "[encoded data removed]",
      "text/plain": [
       "<Figure size 432x288 with 2 Axes>"
      ]
     },
     "metadata": {
      "needs_background": "light"
     },
     "output_type": "display_data"
    }
   ],
   "source": [
    "plt.pcolormesh(grid.x.array, grid.y.array, U.array)\n",
    "plt.colorbar()"
   ]
  },
  {
   "cell_type": "code",
   "execution_count": 302,
   "id": "6a89b161-80e8-4bd6-ad6c-d047d8e1d1a2",
   "metadata": {},
   "outputs": [
    {
     "data": {
      "text/plain": [
       "<matplotlib.colorbar.Colorbar at 0x7fab781292b0>"
      ]
     },
     "execution_count": 302,
     "metadata": {},
     "output_type": "execute_result"
    },
    {
     "data": {
      "image/png": "[encoded data removed]",
      "text/plain": [
       "<Figure size 432x288 with 2 Axes>"
      ]
     },
     "metadata": {
      "needs_background": "light"
     },
     "output_type": "display_data"
    }
   ],
   "source": [
    "plt.pcolormesh(grid.x.array, grid.y.array, U._dx().array)\n",
    "plt.colorbar()"
   ]
  },
  {
   "cell_type": "code",
   "execution_count": 304,
   "id": "247c4186-0909-42df-94da-6730e15e4fc1",
   "metadata": {},
   "outputs": [
    {
     "data": {
      "text/plain": [
       "<matplotlib.colorbar.Colorbar at 0x7fabde543af0>"
      ]
     },
     "execution_count": 304,
     "metadata": {},
     "output_type": "execute_result"
    },
    {
     "data": {
      "image/png": "[encoded data removed]",
      "text/plain": [
       "<Figure size 432x288 with 2 Axes>"
      ]
     },
     "metadata": {
      "needs_background": "light"
     },
     "output_type": "display_data"
    }
   ],
   "source": [
    "plt.pcolormesh(grid.x.array, grid.y.array, U._laplacian().array)\n",
    "plt.colorbar()"
   ]
  },
  {
   "cell_type": "code",
   "execution_count": null,
   "id": "620cb348-f1f2-4dee-9a18-0c9904912515",
   "metadata": {},
   "outputs": [],
   "source": []
  }
 ],
 "metadata": {
  "kernelspec": {
   "display_name": "Python 3 (ipykernel)",
   "language": "python",
   "name": "python3"
  },
  "language_info": {
   "codemirror_mode": {
    "name": "ipython",
    "version": 3
   },
   "file_extension": ".py",
   "mimetype": "text/x-python",
   "name": "python",
   "nbconvert_exporter": "python",
   "pygments_lexer": "ipython3",
   "version": "3.8.13"
  }
 },
 "nbformat": 4,
 "nbformat_minor": 5
}
